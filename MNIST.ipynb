{
  "nbformat": 4,
  "nbformat_minor": 0,
  "metadata": {
    "colab": {
      "name": "MNIST.ipynb",
      "provenance": [],
      "authorship_tag": "ABX9TyOE2EdILIfIhVXrMlVIk5y6",
      "include_colab_link": true
    },
    "kernelspec": {
      "name": "python3",
      "display_name": "Python 3"
    },
    "language_info": {
      "name": "python"
    }
  },
  "cells": [
    {
      "cell_type": "markdown",
      "metadata": {
        "id": "view-in-github",
        "colab_type": "text"
      },
      "source": [
        "<a href=\"https://colab.research.google.com/github/devendar-kachhwaha/Deep_learning/blob/main/MNIST.ipynb\" target=\"_parent\"><img src=\"https://colab.research.google.com/assets/colab-badge.svg\" alt=\"Open In Colab\"/></a>"
      ]
    },
    {
      "cell_type": "code",
      "metadata": {
        "colab": {
          "base_uri": "https://localhost:8080/"
        },
        "id": "ZHDpGcQVzLoK",
        "outputId": "f79ed3d4-fb29-4b4b-ca1b-c70f756ad374"
      },
      "source": [
        "print(\"Jai shree ram\")"
      ],
      "execution_count": 1,
      "outputs": [
        {
          "output_type": "stream",
          "text": [
            "Jai shree ram\n"
          ],
          "name": "stdout"
        }
      ]
    },
    {
      "cell_type": "code",
      "metadata": {
        "id": "3fUCc86nzek-"
      },
      "source": [
        "import tensorflow as tf\n",
        "from tensorflow import keras\n",
        "import matplotlib.pyplot as plt\n",
        "from keras import Sequential\n",
        "from keras import preprocessing\n",
        "from keras.layers import Input, Dense, ZeroPadding2D, BatchNormalization, Activation, Conv2D, Flatten, MaxPooling2D, Dropout\n",
        "from keras.models import Model\n",
        "import numpy as np\n",
        "from keras.utils import np_utils"
      ],
      "execution_count": 2,
      "outputs": []
    },
    {
      "cell_type": "code",
      "metadata": {
        "id": "Er9QEMUj1XWi"
      },
      "source": [
        "from keras.datasets import mnist"
      ],
      "execution_count": 3,
      "outputs": []
    },
    {
      "cell_type": "code",
      "metadata": {
        "id": "oJ6a5fnO1oTf"
      },
      "source": [
        "(X_train, Y_train), (X_test, Y_test) = mnist.load_data()"
      ],
      "execution_count": 4,
      "outputs": []
    },
    {
      "cell_type": "code",
      "metadata": {
        "id": "BAh0tksG7QQ-"
      },
      "source": [
        "X_train = X_train.reshape(X_train.shape[0], 28, 28, 1).astype('float32')\n",
        "X_test = X_test.reshape(X_test.shape[0], 28, 28, 1).astype('float32')\n",
        "\n",
        "Y_train = np_utils.to_categorical(Y_train)\n",
        "Y_test = np_utils.to_categorical(Y_test)\n",
        "\n",
        "X_train = X_train/255\n",
        "X_test = X_test/255"
      ],
      "execution_count": 5,
      "outputs": []
    },
    {
      "cell_type": "code",
      "metadata": {
        "colab": {
          "base_uri": "https://localhost:8080/"
        },
        "id": "6HVrxo4N2RKj",
        "outputId": "491468db-adce-4be8-a18a-109f73676f06"
      },
      "source": [
        "X_train.shape"
      ],
      "execution_count": 6,
      "outputs": [
        {
          "output_type": "execute_result",
          "data": {
            "text/plain": [
              "(60000, 28, 28, 1)"
            ]
          },
          "metadata": {
            "tags": []
          },
          "execution_count": 6
        }
      ]
    },
    {
      "cell_type": "code",
      "metadata": {
        "id": "kLJNxlWi9ju0"
      },
      "source": [
        "def model_by_D():\n",
        "  model = Sequential()\n",
        "\n",
        "  model.add(Conv2D(32, (5, 5), input_shape=(28, 28, 1), activation='relu'))\n",
        "  model.add(BatchNormalization(axis=3))\n",
        "  model.add(MaxPooling2D(2,2))\n",
        "\n",
        "  model.add(Conv2D(16, (3,3), activation='relu'))\n",
        "  model.add(BatchNormalization(axis=3))\n",
        "  model.add(MaxPooling2D(2,2))\n",
        "\n",
        "  model.add(Dropout(0.2))\n",
        "\n",
        "  model.add(Flatten())\n",
        "  model.add(Dense(128,activation='relu'))\n",
        "  model.add(Dense(10,activation='softmax'))\n",
        "\n",
        "  model.compile(optimizer='adam', loss='categorical_crossentropy', metrics=['accuracy'])\n",
        "  return model"
      ],
      "execution_count": 7,
      "outputs": []
    },
    {
      "cell_type": "code",
      "metadata": {
        "id": "n5c90YuF_28T"
      },
      "source": [
        "model = model_by_D()"
      ],
      "execution_count": 8,
      "outputs": []
    },
    {
      "cell_type": "code",
      "metadata": {
        "colab": {
          "base_uri": "https://localhost:8080/"
        },
        "id": "QzZ4dGgIADP7",
        "outputId": "81318be4-ce6a-4df4-c3f8-84bde5f949f1"
      },
      "source": [
        "model.fit(X_train, Y_train, epochs=10, batch_size=60)"
      ],
      "execution_count": 9,
      "outputs": [
        {
          "output_type": "stream",
          "text": [
            "Epoch 1/10\n",
            "1000/1000 [==============================] - 49s 48ms/step - loss: 0.3596 - accuracy: 0.8918\n",
            "Epoch 2/10\n",
            "1000/1000 [==============================] - 46s 46ms/step - loss: 0.0543 - accuracy: 0.9825\n",
            "Epoch 3/10\n",
            "1000/1000 [==============================] - 44s 44ms/step - loss: 0.0382 - accuracy: 0.9882\n",
            "Epoch 4/10\n",
            "1000/1000 [==============================] - 43s 43ms/step - loss: 0.0334 - accuracy: 0.9888\n",
            "Epoch 5/10\n",
            "1000/1000 [==============================] - 43s 43ms/step - loss: 0.0258 - accuracy: 0.9912\n",
            "Epoch 6/10\n",
            "1000/1000 [==============================] - 45s 45ms/step - loss: 0.0253 - accuracy: 0.9912\n",
            "Epoch 7/10\n",
            "1000/1000 [==============================] - 44s 44ms/step - loss: 0.0221 - accuracy: 0.9928\n",
            "Epoch 8/10\n",
            "1000/1000 [==============================] - 45s 45ms/step - loss: 0.0171 - accuracy: 0.9945\n",
            "Epoch 9/10\n",
            "1000/1000 [==============================] - 45s 45ms/step - loss: 0.0157 - accuracy: 0.9948\n",
            "Epoch 10/10\n",
            "1000/1000 [==============================] - 47s 47ms/step - loss: 0.0150 - accuracy: 0.9948\n"
          ],
          "name": "stdout"
        },
        {
          "output_type": "execute_result",
          "data": {
            "text/plain": [
              "<tensorflow.python.keras.callbacks.History at 0x7f1eeca437d0>"
            ]
          },
          "metadata": {
            "tags": []
          },
          "execution_count": 9
        }
      ]
    },
    {
      "cell_type": "code",
      "metadata": {
        "colab": {
          "base_uri": "https://localhost:8080/"
        },
        "id": "bFSo2YNsBpzd",
        "outputId": "c9ec8a9b-0356-435e-e295-6430aea7bff8"
      },
      "source": [
        "preds = model.evaluate(X_test, Y_test)\n",
        "print()\n",
        "print (\"Loss = \" + str(preds[0]))\n",
        "print (\"Test Accuracy = \" + str(preds[1]))"
      ],
      "execution_count": 10,
      "outputs": [
        {
          "output_type": "stream",
          "text": [
            "313/313 [==============================] - 2s 7ms/step - loss: 0.0275 - accuracy: 0.9919\n",
            "\n",
            "Loss = 0.027507271617650986\n",
            "Test Accuracy = 0.9919000267982483\n"
          ],
          "name": "stdout"
        }
      ]
    },
    {
      "cell_type": "code",
      "metadata": {
        "id": "JbM1NicCIJVd"
      },
      "source": [
        ""
      ],
      "execution_count": 10,
      "outputs": []
    }
  ]
}